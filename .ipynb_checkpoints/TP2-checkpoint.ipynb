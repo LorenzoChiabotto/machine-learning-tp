{
 "cells": [
  {
   "cell_type": "code",
   "execution_count": 2,
   "id": "ff8cea36",
   "metadata": {},
   "outputs": [],
   "source": [
    "%matplotlib inline"
   ]
  },
  {
   "cell_type": "code",
   "execution_count": 3,
   "id": "cc133e91",
   "metadata": {},
   "outputs": [],
   "source": [
    "import pandas as pd\n",
    "import matplotlib.pyplot as plt\n",
    "from collections import defaultdict\n",
    "import seaborn as sns\n",
    "import numpy as np\n",
    "from sklearn.linear_model import LogisticRegression\n",
    "from sklearn.metrics import *\n",
    "from IPython.display import HTML, display\n",
    "from sklearn.model_selection import train_test_split\n",
    "from sklearn.preprocessing import OneHotEncoder,StandardScaler\n",
    "from sklearn_pandas import DataFrameMapper\n",
    "from sklearn.experimental import enable_iterative_imputer\n",
    "from sklearn.impute import SimpleImputer, IterativeImputer\n",
    "from sklearn.pipeline import Pipeline"
   ]
  },
  {
   "cell_type": "code",
   "execution_count": 4,
   "id": "915c248f",
   "metadata": {},
   "outputs": [],
   "source": [
    "train = pd.read_csv('./dataset/aug_train.csv')"
   ]
  },
  {
   "cell_type": "code",
   "execution_count": 5,
   "id": "2f347231",
   "metadata": {},
   "outputs": [],
   "source": [
    "#train[\"Gender_num\"] = train.gender.replace(['Male', np.nan, 'Female', 'Other'], [0,1,2,3])\n",
    "train[\"Relevent_experience_num\"] = train.relevent_experience.replace(['Has relevent experience', 'No relevent experience'], [1, 0])\n",
    "train[\"Enrolled_university_num\"] = train.enrolled_university.replace(['no_enrollment', 'Full time course', 'Part time course',np.nan], [0, 1,0.5,np.nan]) #El nan lo sacamos, \n",
    "train[\"education_level_num\"] = train.education_level.replace(['Primary School', 'High School','Graduate', 'Masters', 'Phd',np.nan], [1,2,3,4,5,np.nan]) #El nan lo sacamos, no rellenamos con nada\n",
    "train[\"major_discipline_num\"] = train.major_discipline.replace(['STEM', 'Business Degree', np.nan, 'Arts', 'Humanities', 'No Major','Other'], ['STEM','Other', np.nan,'Other','Other','No Major','Other'])\n",
    "train[\"experience_num\"] = train.experience.replace(['>20', '15', '5', '<1', '11', '13', '7', '17', '2', '16', '1', '4','10', '14', '18', '19', '12', '3', '6', '9', '8', '20', np.nan], [21,  15, 5, 0, 11, 13, 7, 17, 2, 16, 1, 4, 10, 14, 18, 19, 12, 3, 6,9, 8, 20, 10])\n",
    "#train[\"company_type_num\"] = train.company_type.replace([np.nan, 'Pvt Ltd', 'Funded Startup', 'Early Stage Startup', 'Other','Public Sector', 'NGO'], [np.nan, 1,2,3,4,5,6])\n",
    "train[\"company_size_num\"] = train.company_size.replace([np.nan, '50-99', '<10', '10000+', '5000-9999', '1000-4999', '10/49', '100-500', '500-999'], [np.nan, 100, 10, 20000, 10000,5000,50,500,1000]) #Nos falta aclarar por que usamos feature engineering\n",
    "train[\"last_new_job_num\"] = train.last_new_job.replace(['1', '>4', 'never', '4', '3', '2', np.nan], [1,5,-1,4,3,2,2])\n",
    "#train[\"training_hours\"] = train.training_hours.replace(np.nan, 47)   #No reemplazamos los nan"
   ]
  },
  {
   "cell_type": "code",
   "execution_count": 7,
   "id": "e7ac8567",
   "metadata": {},
   "outputs": [
    {
     "ename": "TypeError",
     "evalue": "'tuple' object is not callable",
     "output_type": "error",
     "traceback": [
      "\u001b[0;31m---------------------------------------------------------------------------\u001b[0m",
      "\u001b[0;31mTypeError\u001b[0m                                 Traceback (most recent call last)",
      "\u001b[0;32m<ipython-input-7-63c54c418283>\u001b[0m in \u001b[0;36m<module>\u001b[0;34m\u001b[0m\n\u001b[1;32m      6\u001b[0m     \u001b[0;34m(\u001b[0m\u001b[0;34m[\u001b[0m\u001b[0;34m'last_new_job_num'\u001b[0m\u001b[0;34m]\u001b[0m\u001b[0;34m,\u001b[0m \u001b[0;34m[\u001b[0m\u001b[0mStandardScaler\u001b[0m\u001b[0;34m(\u001b[0m\u001b[0;34m)\u001b[0m\u001b[0;34m]\u001b[0m\u001b[0;34m)\u001b[0m\u001b[0;34m,\u001b[0m\u001b[0;34m\u001b[0m\u001b[0;34m\u001b[0m\u001b[0m\n\u001b[1;32m      7\u001b[0m     \u001b[0;34m(\u001b[0m\u001b[0;34m[\u001b[0m\u001b[0;34m'Enrolled_university_num'\u001b[0m\u001b[0;34m]\u001b[0m\u001b[0;34m,\u001b[0m \u001b[0;34m[\u001b[0m\u001b[0;32mNone\u001b[0m\u001b[0;34m]\u001b[0m\u001b[0;34m)\u001b[0m\u001b[0;34m\u001b[0m\u001b[0;34m\u001b[0m\u001b[0m\n\u001b[0;32m----> 8\u001b[0;31m     \u001b[0;34m(\u001b[0m\u001b[0;34m[\u001b[0m\u001b[0;34m'education_level_num'\u001b[0m\u001b[0;34m]\u001b[0m\u001b[0;34m,\u001b[0m \u001b[0;34m[\u001b[0m\u001b[0;32mNone\u001b[0m\u001b[0;34m]\u001b[0m\u001b[0;34m)\u001b[0m\u001b[0;34m\u001b[0m\u001b[0;34m\u001b[0m\u001b[0m\n\u001b[0m\u001b[1;32m      9\u001b[0m     \u001b[0;34m(\u001b[0m\u001b[0;34m[\u001b[0m\u001b[0;34m'experience_num'\u001b[0m\u001b[0;34m]\u001b[0m\u001b[0;34m,\u001b[0m \u001b[0;34m[\u001b[0m\u001b[0;32mNone\u001b[0m\u001b[0;34m]\u001b[0m\u001b[0;34m)\u001b[0m\u001b[0;34m\u001b[0m\u001b[0;34m\u001b[0m\u001b[0m\n\u001b[1;32m     10\u001b[0m     \u001b[0;34m(\u001b[0m\u001b[0;34m[\u001b[0m\u001b[0;34m'Relevent_experience_num'\u001b[0m\u001b[0;34m]\u001b[0m\u001b[0;34m,\u001b[0m \u001b[0;34m[\u001b[0m\u001b[0;32mNone\u001b[0m\u001b[0;34m]\u001b[0m\u001b[0;34m)\u001b[0m\u001b[0;34m\u001b[0m\u001b[0;34m\u001b[0m\u001b[0m\n",
      "\u001b[0;31mTypeError\u001b[0m: 'tuple' object is not callable"
     ]
    }
   ],
   "source": [
    "mapper = DataFrameMapper([\n",
    "    (['gender'], [OneHotEncoder()]),\n",
    "    (['major_discipline_num'], [OneHotEncoder()]),\n",
    "    (['company_type'], [OneHotEncoder()]),\n",
    "    (['company_size_num'], [StandardScaler()]),\n",
    "    (['last_new_job_num'], [StandardScaler()]),\n",
    "    (['Enrolled_university_num'], [None])\n",
    "    (['education_level_num'], [None])\n",
    "    (['experience_num'], [None])\n",
    "    (['Relevent_experience_num'], [None])\n",
    "    (['traomomg_hours'], [None])\n",
    "])\n",
    "mapper.fit(train)\n"
   ]
  },
  {
   "cell_type": "code",
   "execution_count": 10,
   "id": "415a5c97",
   "metadata": {},
   "outputs": [
    {
     "data": {
      "text/html": [
       "<div>\n",
       "<style scoped>\n",
       "    .dataframe tbody tr th:only-of-type {\n",
       "        vertical-align: middle;\n",
       "    }\n",
       "\n",
       "    .dataframe tbody tr th {\n",
       "        vertical-align: top;\n",
       "    }\n",
       "\n",
       "    .dataframe thead th {\n",
       "        text-align: right;\n",
       "    }\n",
       "</style>\n",
       "<table border=\"1\" class=\"dataframe\">\n",
       "  <thead>\n",
       "    <tr style=\"text-align: right;\">\n",
       "      <th></th>\n",
       "      <th>enrollee_id</th>\n",
       "      <th>city_development_index</th>\n",
       "      <th>gender</th>\n",
       "      <th>company_type</th>\n",
       "      <th>training_hours</th>\n",
       "      <th>target</th>\n",
       "      <th>Relevent_experience_num</th>\n",
       "      <th>Enrolled_university_num</th>\n",
       "      <th>education_level_num</th>\n",
       "      <th>major_discipline_num</th>\n",
       "      <th>experience_num</th>\n",
       "      <th>company_size_num</th>\n",
       "      <th>last_new_job_num</th>\n",
       "    </tr>\n",
       "  </thead>\n",
       "  <tbody>\n",
       "    <tr>\n",
       "      <th>9403</th>\n",
       "      <td>9481</td>\n",
       "      <td>0.920</td>\n",
       "      <td>NaN</td>\n",
       "      <td>Pvt Ltd</td>\n",
       "      <td>12</td>\n",
       "      <td>0.0</td>\n",
       "      <td>1</td>\n",
       "      <td>1.0</td>\n",
       "      <td>3.0</td>\n",
       "      <td>STEM</td>\n",
       "      <td>9</td>\n",
       "      <td>50.0</td>\n",
       "      <td>4</td>\n",
       "    </tr>\n",
       "    <tr>\n",
       "      <th>6244</th>\n",
       "      <td>15583</td>\n",
       "      <td>0.926</td>\n",
       "      <td>Male</td>\n",
       "      <td>Public Sector</td>\n",
       "      <td>32</td>\n",
       "      <td>0.0</td>\n",
       "      <td>0</td>\n",
       "      <td>1.0</td>\n",
       "      <td>3.0</td>\n",
       "      <td>STEM</td>\n",
       "      <td>9</td>\n",
       "      <td>1000.0</td>\n",
       "      <td>1</td>\n",
       "    </tr>\n",
       "    <tr>\n",
       "      <th>13238</th>\n",
       "      <td>14553</td>\n",
       "      <td>0.899</td>\n",
       "      <td>NaN</td>\n",
       "      <td>NaN</td>\n",
       "      <td>83</td>\n",
       "      <td>1.0</td>\n",
       "      <td>0</td>\n",
       "      <td>0.0</td>\n",
       "      <td>3.0</td>\n",
       "      <td>STEM</td>\n",
       "      <td>4</td>\n",
       "      <td>NaN</td>\n",
       "      <td>-1</td>\n",
       "    </tr>\n",
       "    <tr>\n",
       "      <th>14015</th>\n",
       "      <td>8598</td>\n",
       "      <td>0.767</td>\n",
       "      <td>Male</td>\n",
       "      <td>NaN</td>\n",
       "      <td>40</td>\n",
       "      <td>1.0</td>\n",
       "      <td>1</td>\n",
       "      <td>1.0</td>\n",
       "      <td>3.0</td>\n",
       "      <td>STEM</td>\n",
       "      <td>5</td>\n",
       "      <td>NaN</td>\n",
       "      <td>4</td>\n",
       "    </tr>\n",
       "    <tr>\n",
       "      <th>13588</th>\n",
       "      <td>28138</td>\n",
       "      <td>0.624</td>\n",
       "      <td>Male</td>\n",
       "      <td>NaN</td>\n",
       "      <td>66</td>\n",
       "      <td>0.0</td>\n",
       "      <td>0</td>\n",
       "      <td>0.0</td>\n",
       "      <td>3.0</td>\n",
       "      <td>STEM</td>\n",
       "      <td>2</td>\n",
       "      <td>NaN</td>\n",
       "      <td>1</td>\n",
       "    </tr>\n",
       "  </tbody>\n",
       "</table>\n",
       "</div>"
      ],
      "text/plain": [
       "       enrollee_id  city_development_index gender   company_type  \\\n",
       "9403          9481                   0.920    NaN        Pvt Ltd   \n",
       "6244         15583                   0.926   Male  Public Sector   \n",
       "13238        14553                   0.899    NaN            NaN   \n",
       "14015         8598                   0.767   Male            NaN   \n",
       "13588        28138                   0.624   Male            NaN   \n",
       "\n",
       "       training_hours  target  Relevent_experience_num  \\\n",
       "9403               12     0.0                        1   \n",
       "6244               32     0.0                        0   \n",
       "13238              83     1.0                        0   \n",
       "14015              40     1.0                        1   \n",
       "13588              66     0.0                        0   \n",
       "\n",
       "       Enrolled_university_num  education_level_num major_discipline_num  \\\n",
       "9403                       1.0                  3.0                 STEM   \n",
       "6244                       1.0                  3.0                 STEM   \n",
       "13238                      0.0                  3.0                 STEM   \n",
       "14015                      1.0                  3.0                 STEM   \n",
       "13588                      0.0                  3.0                 STEM   \n",
       "\n",
       "       experience_num  company_size_num  last_new_job_num  \n",
       "9403                9              50.0                 4  \n",
       "6244                9            1000.0                 1  \n",
       "13238               4               NaN                -1  \n",
       "14015               5               NaN                 4  \n",
       "13588               2               NaN                 1  "
      ]
     },
     "execution_count": 10,
     "metadata": {},
     "output_type": "execute_result"
    }
   ],
   "source": [
    "# vemos como transforma un sample:\n",
    "sample = train.sample(5, random_state=42)\n",
    "\n",
    "# Sample original:\n",
    "sample"
   ]
  },
  {
   "cell_type": "code",
   "execution_count": 11,
   "id": "0015dfc5",
   "metadata": {},
   "outputs": [
    {
     "data": {
      "text/plain": [
       "array([[ 0.        ,  0.        ,  0.        ,  1.        ,  0.        ,\n",
       "         0.        ,  1.        ,  0.        ,  0.        ,  0.        ,\n",
       "         0.        ,  0.        ,  0.        ,  1.        ,  0.        ,\n",
       "        -0.57671895,  1.15430913],\n",
       "       [ 0.        ,  1.        ,  0.        ,  0.        ,  0.        ,\n",
       "         0.        ,  1.        ,  0.        ,  0.        ,  0.        ,\n",
       "         0.        ,  0.        ,  1.        ,  0.        ,  0.        ,\n",
       "        -0.44260082, -0.47760879],\n",
       "       [ 0.        ,  0.        ,  0.        ,  1.        ,  0.        ,\n",
       "         0.        ,  1.        ,  0.        ,  0.        ,  0.        ,\n",
       "         0.        ,  0.        ,  0.        ,  0.        ,  1.        ,\n",
       "                nan, -1.56555406],\n",
       "       [ 0.        ,  1.        ,  0.        ,  0.        ,  0.        ,\n",
       "         0.        ,  1.        ,  0.        ,  0.        ,  0.        ,\n",
       "         0.        ,  0.        ,  0.        ,  0.        ,  1.        ,\n",
       "                nan,  1.15430913],\n",
       "       [ 0.        ,  1.        ,  0.        ,  0.        ,  0.        ,\n",
       "         0.        ,  1.        ,  0.        ,  0.        ,  0.        ,\n",
       "         0.        ,  0.        ,  0.        ,  0.        ,  1.        ,\n",
       "                nan, -0.47760879]])"
      ]
     },
     "execution_count": 11,
     "metadata": {},
     "output_type": "execute_result"
    }
   ],
   "source": [
    "mapper.transform(sample)"
   ]
  },
  {
   "cell_type": "code",
   "execution_count": 12,
   "id": "5d210feb",
   "metadata": {},
   "outputs": [
    {
     "data": {
      "text/plain": [
       "['gender_x0_Female',\n",
       " 'gender_x0_Male',\n",
       " 'gender_x0_Other',\n",
       " 'gender_x0_nan',\n",
       " 'major_discipline_num_x0_No Major',\n",
       " 'major_discipline_num_x0_Other',\n",
       " 'major_discipline_num_x0_STEM',\n",
       " 'major_discipline_num_x0_nan',\n",
       " 'company_type_x0_Early Stage Startup',\n",
       " 'company_type_x0_Funded Startup',\n",
       " 'company_type_x0_NGO',\n",
       " 'company_type_x0_Other',\n",
       " 'company_type_x0_Public Sector',\n",
       " 'company_type_x0_Pvt Ltd',\n",
       " 'company_type_x0_nan',\n",
       " 'company_size_num',\n",
       " 'last_new_job_num']"
      ]
     },
     "execution_count": 12,
     "metadata": {},
     "output_type": "execute_result"
    }
   ],
   "source": [
    "mapper.transformed_names_"
   ]
  },
  {
   "cell_type": "code",
   "execution_count": 14,
   "id": "8fcc3771",
   "metadata": {},
   "outputs": [
    {
     "data": {
      "text/plain": [
       "array([[ 0.00000000e+00,  0.00000000e+00,  0.00000000e+00,\n",
       "         1.00000000e+00,  0.00000000e+00,  0.00000000e+00,\n",
       "         1.00000000e+00,  0.00000000e+00,  0.00000000e+00,\n",
       "         0.00000000e+00,  0.00000000e+00,  0.00000000e+00,\n",
       "         0.00000000e+00,  1.00000000e+00,  0.00000000e+00,\n",
       "        -5.76718947e-01,  1.15430913e+00],\n",
       "       [ 0.00000000e+00,  1.00000000e+00,  0.00000000e+00,\n",
       "         0.00000000e+00,  0.00000000e+00,  0.00000000e+00,\n",
       "         1.00000000e+00,  0.00000000e+00,  0.00000000e+00,\n",
       "         0.00000000e+00,  0.00000000e+00,  0.00000000e+00,\n",
       "         1.00000000e+00,  0.00000000e+00,  0.00000000e+00,\n",
       "        -4.42600824e-01, -4.77608787e-01],\n",
       "       [ 0.00000000e+00,  0.00000000e+00,  0.00000000e+00,\n",
       "         1.00000000e+00,  0.00000000e+00,  0.00000000e+00,\n",
       "         1.00000000e+00,  0.00000000e+00,  0.00000000e+00,\n",
       "         0.00000000e+00,  0.00000000e+00,  0.00000000e+00,\n",
       "         0.00000000e+00,  0.00000000e+00,  1.00000000e+00,\n",
       "         1.37496296e-16, -1.56555406e+00],\n",
       "       [ 0.00000000e+00,  1.00000000e+00,  0.00000000e+00,\n",
       "         0.00000000e+00,  0.00000000e+00,  0.00000000e+00,\n",
       "         1.00000000e+00,  0.00000000e+00,  0.00000000e+00,\n",
       "         0.00000000e+00,  0.00000000e+00,  0.00000000e+00,\n",
       "         0.00000000e+00,  0.00000000e+00,  1.00000000e+00,\n",
       "         1.37496296e-16,  1.15430913e+00],\n",
       "       [ 0.00000000e+00,  1.00000000e+00,  0.00000000e+00,\n",
       "         0.00000000e+00,  0.00000000e+00,  0.00000000e+00,\n",
       "         1.00000000e+00,  0.00000000e+00,  0.00000000e+00,\n",
       "         0.00000000e+00,  0.00000000e+00,  0.00000000e+00,\n",
       "         0.00000000e+00,  0.00000000e+00,  1.00000000e+00,\n",
       "         1.37496296e-16, -4.77608787e-01]])"
      ]
     },
     "execution_count": 14,
     "metadata": {},
     "output_type": "execute_result"
    }
   ],
   "source": [
    "pipe1 = Pipeline([\n",
    "    ('mapper', mapper),\n",
    "    ('imputer', SimpleImputer(strategy='mean')),\n",
    "])\n",
    "# Lo entrenamos con train\n",
    "pipe1.fit(train)\n",
    "\n",
    "pipe2 = Pipeline([\n",
    "    ('mapper', mapper),\n",
    "    ('imputer', IterativeImputer(random_state=42)),\n",
    "])\n",
    "# Lo entrenamos con train\n",
    "pipe2.fit(train)\n",
    "\n",
    "# Sample transformado con mean\n",
    "pipe1.transform(sample)"
   ]
  },
  {
   "cell_type": "code",
   "execution_count": 15,
   "id": "677301d0",
   "metadata": {},
   "outputs": [
    {
     "data": {
      "text/plain": [
       "array([[ 0.        ,  0.        ,  0.        ,  1.        ,  0.        ,\n",
       "         0.        ,  1.        ,  0.        ,  0.        ,  0.        ,\n",
       "         0.        ,  0.        ,  0.        ,  1.        ,  0.        ,\n",
       "        -0.57671895,  1.15430913],\n",
       "       [ 0.        ,  1.        ,  0.        ,  0.        ,  0.        ,\n",
       "         0.        ,  1.        ,  0.        ,  0.        ,  0.        ,\n",
       "         0.        ,  0.        ,  1.        ,  0.        ,  0.        ,\n",
       "        -0.44260082, -0.47760879],\n",
       "       [ 0.        ,  0.        ,  0.        ,  1.        ,  0.        ,\n",
       "         0.        ,  1.        ,  0.        ,  0.        ,  0.        ,\n",
       "         0.        ,  0.        ,  0.        ,  0.        ,  1.        ,\n",
       "        -0.18166076, -1.56555406],\n",
       "       [ 0.        ,  1.        ,  0.        ,  0.        ,  0.        ,\n",
       "         0.        ,  1.        ,  0.        ,  0.        ,  0.        ,\n",
       "         0.        ,  0.        ,  0.        ,  0.        ,  1.        ,\n",
       "        -0.10970536,  1.15430913],\n",
       "       [ 0.        ,  1.        ,  0.        ,  0.        ,  0.        ,\n",
       "         0.        ,  1.        ,  0.        ,  0.        ,  0.        ,\n",
       "         0.        ,  0.        ,  0.        ,  0.        ,  1.        ,\n",
       "        -0.14533732, -0.47760879]])"
      ]
     },
     "execution_count": 15,
     "metadata": {},
     "output_type": "execute_result"
    }
   ],
   "source": [
    "pipe2.transform(sample)"
   ]
  },
  {
   "cell_type": "code",
   "execution_count": 6,
   "id": "2fa1cbdb",
   "metadata": {},
   "outputs": [],
   "source": [
    "train.drop(['city', 'relevent_experience', 'enrolled_university', 'education_level', 'major_discipline','experience','company_size','last_new_job'], axis=1, inplace=True)"
   ]
  },
  {
   "cell_type": "code",
   "execution_count": 7,
   "id": "430f0b5e",
   "metadata": {
    "scrolled": true
   },
   "outputs": [
    {
     "data": {
      "text/html": [
       "<div>\n",
       "<style scoped>\n",
       "    .dataframe tbody tr th:only-of-type {\n",
       "        vertical-align: middle;\n",
       "    }\n",
       "\n",
       "    .dataframe tbody tr th {\n",
       "        vertical-align: top;\n",
       "    }\n",
       "\n",
       "    .dataframe thead th {\n",
       "        text-align: right;\n",
       "    }\n",
       "</style>\n",
       "<table border=\"1\" class=\"dataframe\">\n",
       "  <thead>\n",
       "    <tr style=\"text-align: right;\">\n",
       "      <th></th>\n",
       "      <th>enrollee_id</th>\n",
       "      <th>city_development_index</th>\n",
       "      <th>gender</th>\n",
       "      <th>company_type</th>\n",
       "      <th>training_hours</th>\n",
       "      <th>target</th>\n",
       "      <th>Relevent_experience_num</th>\n",
       "      <th>Enrolled_university_num</th>\n",
       "      <th>education_level_num</th>\n",
       "      <th>major_discipline_num</th>\n",
       "      <th>experience_num</th>\n",
       "      <th>company_size_num</th>\n",
       "      <th>last_new_job_num</th>\n",
       "    </tr>\n",
       "  </thead>\n",
       "  <tbody>\n",
       "    <tr>\n",
       "      <th>11853</th>\n",
       "      <td>3959</td>\n",
       "      <td>0.624</td>\n",
       "      <td>Male</td>\n",
       "      <td>Pvt Ltd</td>\n",
       "      <td>92</td>\n",
       "      <td>0.0</td>\n",
       "      <td>1</td>\n",
       "      <td>0.0</td>\n",
       "      <td>3.0</td>\n",
       "      <td>STEM</td>\n",
       "      <td>6</td>\n",
       "      <td>100.0</td>\n",
       "      <td>5</td>\n",
       "    </tr>\n",
       "    <tr>\n",
       "      <th>6378</th>\n",
       "      <td>4341</td>\n",
       "      <td>0.558</td>\n",
       "      <td>NaN</td>\n",
       "      <td>Public Sector</td>\n",
       "      <td>51</td>\n",
       "      <td>1.0</td>\n",
       "      <td>1</td>\n",
       "      <td>1.0</td>\n",
       "      <td>3.0</td>\n",
       "      <td>STEM</td>\n",
       "      <td>6</td>\n",
       "      <td>50.0</td>\n",
       "      <td>2</td>\n",
       "    </tr>\n",
       "    <tr>\n",
       "      <th>13347</th>\n",
       "      <td>18961</td>\n",
       "      <td>0.624</td>\n",
       "      <td>NaN</td>\n",
       "      <td>NaN</td>\n",
       "      <td>32</td>\n",
       "      <td>0.0</td>\n",
       "      <td>0</td>\n",
       "      <td>1.0</td>\n",
       "      <td>2.0</td>\n",
       "      <td>NaN</td>\n",
       "      <td>0</td>\n",
       "      <td>NaN</td>\n",
       "      <td>-1</td>\n",
       "    </tr>\n",
       "    <tr>\n",
       "      <th>18196</th>\n",
       "      <td>22722</td>\n",
       "      <td>0.884</td>\n",
       "      <td>NaN</td>\n",
       "      <td>NaN</td>\n",
       "      <td>24</td>\n",
       "      <td>1.0</td>\n",
       "      <td>1</td>\n",
       "      <td>0.0</td>\n",
       "      <td>3.0</td>\n",
       "      <td>STEM</td>\n",
       "      <td>21</td>\n",
       "      <td>NaN</td>\n",
       "      <td>5</td>\n",
       "    </tr>\n",
       "    <tr>\n",
       "      <th>2445</th>\n",
       "      <td>18148</td>\n",
       "      <td>0.920</td>\n",
       "      <td>NaN</td>\n",
       "      <td>NaN</td>\n",
       "      <td>43</td>\n",
       "      <td>0.0</td>\n",
       "      <td>0</td>\n",
       "      <td>1.0</td>\n",
       "      <td>3.0</td>\n",
       "      <td>STEM</td>\n",
       "      <td>2</td>\n",
       "      <td>NaN</td>\n",
       "      <td>1</td>\n",
       "    </tr>\n",
       "  </tbody>\n",
       "</table>\n",
       "</div>"
      ],
      "text/plain": [
       "       enrollee_id  city_development_index gender   company_type  \\\n",
       "11853         3959                   0.624   Male        Pvt Ltd   \n",
       "6378          4341                   0.558    NaN  Public Sector   \n",
       "13347        18961                   0.624    NaN            NaN   \n",
       "18196        22722                   0.884    NaN            NaN   \n",
       "2445         18148                   0.920    NaN            NaN   \n",
       "\n",
       "       training_hours  target  Relevent_experience_num  \\\n",
       "11853              92     0.0                        1   \n",
       "6378               51     1.0                        1   \n",
       "13347              32     0.0                        0   \n",
       "18196              24     1.0                        1   \n",
       "2445               43     0.0                        0   \n",
       "\n",
       "       Enrolled_university_num  education_level_num major_discipline_num  \\\n",
       "11853                      0.0                  3.0                 STEM   \n",
       "6378                       1.0                  3.0                 STEM   \n",
       "13347                      1.0                  2.0                  NaN   \n",
       "18196                      0.0                  3.0                 STEM   \n",
       "2445                       1.0                  3.0                 STEM   \n",
       "\n",
       "       experience_num  company_size_num  last_new_job_num  \n",
       "11853               6             100.0                 5  \n",
       "6378                6              50.0                 2  \n",
       "13347               0               NaN                -1  \n",
       "18196              21               NaN                 5  \n",
       "2445                2               NaN                 1  "
      ]
     },
     "execution_count": 7,
     "metadata": {},
     "output_type": "execute_result"
    }
   ],
   "source": [
    "train, not_train = train_test_split(train, test_size=0.3, random_state=1)\n",
    "validation, test = train_test_split(not_train, test_size=0.5, random_state=1)\n",
    "\n",
    "train.sample(5)"
   ]
  },
  {
   "cell_type": "code",
   "execution_count": 5,
   "id": "02b97865",
   "metadata": {},
   "outputs": [
    {
     "data": {
      "text/plain": [
       "LogisticRegression()"
      ]
     },
     "execution_count": 5,
     "metadata": {},
     "output_type": "execute_result"
    }
   ],
   "source": [
    "salidas = train.target\n",
    "entradas = train.drop(['target'], axis=1)\n",
    "modelo = LogisticRegression()\n",
    "modelo.fit(entradas,salidas)"
   ]
  },
  {
   "cell_type": "code",
   "execution_count": 6,
   "id": "ad4bdcc0",
   "metadata": {},
   "outputs": [
    {
     "name": "stdout",
     "output_type": "stream",
     "text": [
      "       enrollee_id  city_development_index  training_hours  target  \\\n",
      "2853           455                   0.899              52     0.0   \n",
      "3639         25284                   0.910              21     1.0   \n",
      "5865         15839                   0.910              42     0.0   \n",
      "706          28673                   0.920              20     1.0   \n",
      "9515         33246                   0.920              30     0.0   \n",
      "...            ...                     ...             ...     ...   \n",
      "2917         11962                   0.898              31     0.0   \n",
      "15867        32797                   0.926              46     0.0   \n",
      "6235         32634                   0.920              61     0.0   \n",
      "12030        26686                   0.910              77     0.0   \n",
      "17794        29209                   0.920              30     0.0   \n",
      "\n",
      "       Gender_num  Relevent_experience_num  Enrolled_university_num  \\\n",
      "2853            0                        1                        0   \n",
      "3639            1                        0                        0   \n",
      "5865            0                        1                        0   \n",
      "706             0                        1                        0   \n",
      "9515            0                        1                        1   \n",
      "...           ...                      ...                      ...   \n",
      "2917            0                        1                        0   \n",
      "15867           0                        1                        0   \n",
      "6235            1                        1                        0   \n",
      "12030           0                        1                        0   \n",
      "17794           0                        1                        1   \n",
      "\n",
      "       education_level_num  major_discipline_num  experience_num  \\\n",
      "2853                     0                     0               4   \n",
      "3639                     0                     3               2   \n",
      "5865                     0                     0               6   \n",
      "706                      0                     0              21   \n",
      "9515                     0                     0              19   \n",
      "...                    ...                   ...             ...   \n",
      "2917                     1                     0              21   \n",
      "15867                    1                     0              16   \n",
      "6235                     1                     0               7   \n",
      "12030                    0                     0               7   \n",
      "17794                    0                     0               7   \n",
      "\n",
      "       company_type_num  company_size_num  last_new_job_num  \n",
      "2853                  2               500                 2  \n",
      "3639                  0              5000                 2  \n",
      "5865                  1                50                 3  \n",
      "706                   1               100                 1  \n",
      "9515                  0              5000                 1  \n",
      "...                 ...               ...               ...  \n",
      "2917                  1                50                 1  \n",
      "15867                 1               100                 1  \n",
      "6235                  1             20000                 5  \n",
      "12030                 1               500                 1  \n",
      "17794                 5             20000                 2  \n",
      "\n",
      "[5748 rows x 13 columns]\n"
     ]
    }
   ],
   "source": [
    "print(not_train)"
   ]
  },
  {
   "cell_type": "code",
   "execution_count": 7,
   "id": "fe3dad7e",
   "metadata": {},
   "outputs": [],
   "source": [
    "resultados = not_train.target\n",
    "not_train.drop(['target'], axis=1, inplace=True)"
   ]
  },
  {
   "cell_type": "code",
   "execution_count": 8,
   "id": "746bf95b",
   "metadata": {
    "scrolled": false
   },
   "outputs": [
    {
     "name": "stdout",
     "output_type": "stream",
     "text": [
      "0.7559151009046625\n",
      "0.02959830866807611\n",
      "0.6176470588235294\n"
     ]
    }
   ],
   "source": [
    "predict = modelo.predict(not_train)\n",
    "\n",
    "print(accuracy_score(resultados,predict))\n",
    "print(recall_score(resultados,predict))\n",
    "print(precision_score(resultados,predict))\n"
   ]
  }
 ],
 "metadata": {
  "kernelspec": {
   "display_name": "Python 3",
   "language": "python",
   "name": "python3"
  },
  "language_info": {
   "codemirror_mode": {
    "name": "ipython",
    "version": 3
   },
   "file_extension": ".py",
   "mimetype": "text/x-python",
   "name": "python",
   "nbconvert_exporter": "python",
   "pygments_lexer": "ipython3",
   "version": "3.6.9"
  }
 },
 "nbformat": 4,
 "nbformat_minor": 5
}
