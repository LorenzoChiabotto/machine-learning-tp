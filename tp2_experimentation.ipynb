{
 "cells": [
  {
   "cell_type": "markdown",
   "id": "unable-saudi",
   "metadata": {},
   "source": [
    "# Trabajo Práctico 2: Entrenamiento y evaluación de modelos"
   ]
  },
  {
   "cell_type": "markdown",
   "id": "norwegian-hardware",
   "metadata": {},
   "source": [
    "# Configuration"
   ]
  },
  {
   "cell_type": "code",
   "execution_count": 1,
   "id": "bulgarian-clock",
   "metadata": {},
   "outputs": [],
   "source": [
    "%matplotlib inline"
   ]
  },
  {
   "cell_type": "code",
   "execution_count": 2,
   "id": "excess-wyoming",
   "metadata": {},
   "outputs": [
    {
     "ename": "ModuleNotFoundError",
     "evalue": "No module named 'graphviz'",
     "output_type": "error",
     "traceback": [
      "\u001b[1;31m---------------------------------------------------------------------------\u001b[0m",
      "\u001b[1;31mModuleNotFoundError\u001b[0m                       Traceback (most recent call last)",
      "\u001b[1;32m<ipython-input-2-772325a0dce0>\u001b[0m in \u001b[0;36m<module>\u001b[1;34m\u001b[0m\n\u001b[0;32m     21\u001b[0m \u001b[1;33m\u001b[0m\u001b[0m\n\u001b[0;32m     22\u001b[0m \u001b[1;33m\u001b[0m\u001b[0m\n\u001b[1;32m---> 23\u001b[1;33m \u001b[1;32mimport\u001b[0m \u001b[0mgraphviz\u001b[0m\u001b[1;33m\u001b[0m\u001b[1;33m\u001b[0m\u001b[0m\n\u001b[0m\u001b[0;32m     24\u001b[0m \u001b[1;32mfrom\u001b[0m \u001b[0msklearn\u001b[0m\u001b[1;33m.\u001b[0m\u001b[0mtree\u001b[0m \u001b[1;32mimport\u001b[0m \u001b[0mexport_graphviz\u001b[0m\u001b[1;33m\u001b[0m\u001b[1;33m\u001b[0m\u001b[0m\n\u001b[0;32m     25\u001b[0m \u001b[1;33m\u001b[0m\u001b[0m\n",
      "\u001b[1;31mModuleNotFoundError\u001b[0m: No module named 'graphviz'"
     ]
    }
   ],
   "source": [
    "import pandas as pd\n",
    "import seaborn as sns\n",
    "import numpy as np\n",
    "from collections import defaultdict\n",
    "from matplotlib import pyplot as plt\n",
    "\n",
    "from sklearn.linear_model import LogisticRegression\n",
    "from sklearn import metrics\n",
    "from sklearn.metrics import accuracy_score, precision_score, recall_score, confusion_matrix\n",
    "from sklearn.model_selection import train_test_split\n",
    "from sklearn_pandas import DataFrameMapper\n",
    "from sklearn.pipeline import Pipeline\n",
    "from sklearn.preprocessing import OneHotEncoder, StandardScaler, LabelBinarizer\n",
    "from sklearn.experimental import enable_iterative_imputer\n",
    "from sklearn.impute import SimpleImputer, IterativeImputer\n",
    "\n",
    "from sklearn.neighbors import KNeighborsClassifier\n",
    "from sklearn.tree import DecisionTreeClassifier\n",
    "\n",
    "from sklearn.model_selection import GridSearchCV\n",
    "\n",
    "\n",
    "import graphviz\n",
    "from sklearn.tree import export_graphviz\n",
    "\n",
    "persons = pd.read_csv('./dataset/aug_train.csv')"
   ]
  },
  {
   "cell_type": "markdown",
   "id": "precious-watts",
   "metadata": {},
   "source": [
    "## Métrica de Performance\n",
    "Se van a utilizar como métricas \n",
    "* **Accuracy** : para saber en que porcentajes de nuestros modelos acertaron su prediccion.\n",
    "* **F1**: para identificar que porcentaje de las veces que dijimos positivo acertamos y que porcentaje de positivos encontramos."
   ]
  },
  {
   "cell_type": "markdown",
   "id": "intellectual-proportion",
   "metadata": {},
   "source": [
    "# Feature Engineering and DataFrameMapper"
   ]
  },
  {
   "cell_type": "markdown",
   "id": "d390e0d7",
   "metadata": {},
   "source": [
    "Aplicamos binnig en la feature \"disciplina del candidato\" agrupando los casos con menos aparicion en la categoria \"Otros\".\n",
    "Para features binarias y categóricas de poca \"variabilidad\" tales como el \"genero\", \"disciplina del candidato\" y \"tipo de compania\" utilizamos OneHotEncoder. \n"
   ]
  },
  {
   "cell_type": "code",
   "execution_count": 3,
   "id": "discrete-aquarium",
   "metadata": {},
   "outputs": [],
   "source": [
    "persons = pd.read_csv('./dataset/aug_train.csv')\n",
    "persons[\"Relevent_experience_num\"] = persons.relevent_experience.replace(['Has relevent experience', 'No relevent experience'], [1, 0])\n",
    "persons[\"Enrolled_university_num\"] = persons.enrolled_university.replace(['no_enrollment', 'Full time course', 'Part time course',np.nan], [0, 1,0.5,np.nan]) \n",
    "persons[\"education_level_num\"] = persons.education_level.replace(['Primary School', 'High School','Graduate', 'Masters', 'Phd',np.nan], [1,2,3,4,5,np.nan]) \n",
    "persons[\"major_discipline_num\"] = persons.major_discipline.replace(['STEM', 'Business Degree', np.nan, 'Arts', 'Humanities', 'No Major','Other'], ['STEM','Other', np.nan,'Other','Other','No Major','Other'])\n",
    "persons[\"experience_num\"] = persons.experience.replace(['>20', '15', '5', '<1', '11', '13', '7', '17', '2', '16', '1', '4','10', '14', '18', '19', '12', '3', '6', '9', '8', '20', np.nan], [21,  15, 5, 0, 11, 13, 7, 17, 2, 16, 1, 4, 10, 14, 18, 19, 12, 3, 6,9, 8, 20, 10])\n",
    "persons[\"company_size_num\"] = persons.company_size.replace([np.nan, '50-99', '<10', '10000+', '5000-9999', '1000-4999', '10/49', '100-500', '500-999'], [np.nan, 100, 10, 20000, 10000,5000,50,500,1000]) \n",
    "persons[\"last_new_job_num\"] = persons.last_new_job.replace(['1', '>4', 'never', '4', '3', '2', np.nan], [1,5,-1,4,3,2,2])\n",
    "mapper = DataFrameMapper([\n",
    "    (['gender'], [OneHotEncoder()]),\n",
    "    (['major_discipline_num'], [OneHotEncoder()]),\n",
    "    (['company_type'], [OneHotEncoder()]),\n",
    "    (['company_size_num'], [StandardScaler()]),\n",
    "    (['last_new_job_num'], [StandardScaler()]),\n",
    "    (['Enrolled_university_num'], None),\n",
    "    (['education_level_num'], None),\n",
    "    (['experience_num'], None),\n",
    "    (['Relevent_experience_num'], None),\n",
    "    (['training_hours'], None),\n",
    "])\n",
    "mapper.fit(persons)\n",
    "\n",
    "# Test, train & validation sets\n",
    "train, not_train = train_test_split(persons, test_size=0.4, random_state=42)\n",
    "validation, test = train_test_split(not_train, test_size=0.5, random_state=42)\n"
   ]
  },
  {
   "cell_type": "markdown",
   "id": "324b122c",
   "metadata": {},
   "source": [
    "Decidimos utilizar el 60% del dataset para train (11494 registros) y el 50% restante para test y validation (3832 registros para cada uno)."
   ]
  },
  {
   "cell_type": "markdown",
   "id": "chubby-repository",
   "metadata": {},
   "source": [
    "# Entrenamiento"
   ]
  },
  {
   "cell_type": "code",
   "execution_count": 4,
   "id": "found-business",
   "metadata": {},
   "outputs": [],
   "source": [
    "def evaluate_model(model, set_names=('train', 'validation', 'test'), title='', show_cm=True):\n",
    "    if title:\n",
    "        display(title)\n",
    "        \n",
    "    final_metrics = defaultdict(list)\n",
    "    \n",
    "    if show_cm:\n",
    "        fig, axis = plt.subplots(1, len(set_names), sharey=True, figsize=(15, 3))\n",
    "    \n",
    "    for i, set_name in enumerate(set_names):\n",
    "        assert set_name in ['train', 'validation', 'test']\n",
    "        set_data = globals()[set_name]  # <- hack feo...\n",
    "\n",
    "        y = set_data.target\n",
    "        y_pred = model.predict(set_data)\n",
    "        final_metrics['Accuracy'].append(metrics.accuracy_score(y, y_pred))\n",
    "        final_metrics['Precision'].append(metrics.precision_score(y, y_pred))\n",
    "        final_metrics['Recall'].append(metrics.recall_score(y, y_pred))\n",
    "        final_metrics['F1'].append(metrics.f1_score(y, y_pred))\n",
    "        \n",
    "        if show_cm:\n",
    "            ax = axis[i]\n",
    "            sns.heatmap(metrics.confusion_matrix(y, y_pred), ax=ax, cmap='Blues', annot=True, fmt='.0f', cbar=False)\n",
    "\n",
    "            ax.set_title(set_name)\n",
    "            ax.xaxis.set_ticklabels(['change', 'no change'])\n",
    "            ax.yaxis.set_ticklabels(['change', 'no change'])\n",
    "            ax.set_xlabel('Predicted class')\n",
    "            ax.set_ylabel('True class')\n",
    "\n",
    "        \n",
    "    display(pd.DataFrame(final_metrics, index=set_names))\n",
    "    if show_cm:\n",
    "        plt.tight_layout()\n",
    "        plt.show()"
   ]
  },
  {
   "cell_type": "markdown",
   "id": "continent-blackjack",
   "metadata": {},
   "source": [
    "## Logistic Regression"
   ]
  },
  {
   "cell_type": "code",
   "execution_count": 5,
   "id": "common-contribution",
   "metadata": {},
   "outputs": [
    {
     "name": "stdout",
     "output_type": "stream",
     "text": [
      "Fitting 5 folds for each of 3 candidates, totalling 15 fits\n",
      "Mejor score:  0.76292\n",
      "Mejores parámetros: \n",
      " {'max_iter': 400}\n"
     ]
    },
    {
     "data": {
      "text/plain": [
       "'Logistic Regression'"
      ]
     },
     "metadata": {},
     "output_type": "display_data"
    },
    {
     "data": {
      "text/html": [
       "<div>\n",
       "<style scoped>\n",
       "    .dataframe tbody tr th:only-of-type {\n",
       "        vertical-align: middle;\n",
       "    }\n",
       "\n",
       "    .dataframe tbody tr th {\n",
       "        vertical-align: top;\n",
       "    }\n",
       "\n",
       "    .dataframe thead th {\n",
       "        text-align: right;\n",
       "    }\n",
       "</style>\n",
       "<table border=\"1\" class=\"dataframe\">\n",
       "  <thead>\n",
       "    <tr style=\"text-align: right;\">\n",
       "      <th></th>\n",
       "      <th>Accuracy</th>\n",
       "      <th>Precision</th>\n",
       "      <th>Recall</th>\n",
       "      <th>F1</th>\n",
       "    </tr>\n",
       "  </thead>\n",
       "  <tbody>\n",
       "    <tr>\n",
       "      <th>train</th>\n",
       "      <td>0.763442</td>\n",
       "      <td>0.561521</td>\n",
       "      <td>0.177448</td>\n",
       "      <td>0.269675</td>\n",
       "    </tr>\n",
       "    <tr>\n",
       "      <th>validation</th>\n",
       "      <td>0.760438</td>\n",
       "      <td>0.554839</td>\n",
       "      <td>0.180672</td>\n",
       "      <td>0.272583</td>\n",
       "    </tr>\n",
       "  </tbody>\n",
       "</table>\n",
       "</div>"
      ],
      "text/plain": [
       "            Accuracy  Precision    Recall        F1\n",
       "train       0.763442   0.561521  0.177448  0.269675\n",
       "validation  0.760438   0.554839  0.180672  0.272583"
      ]
     },
     "metadata": {},
     "output_type": "display_data"
    },
    {
     "data": {
      "image/png": "[encoded data removed]",
      "text/plain": [
       "<Figure size 1080x216 with 2 Axes>"
      ]
     },
     "metadata": {
      "needs_background": "light"
     },
     "output_type": "display_data"
    }
   ],
   "source": [
    "parameters = {'max_iter':[400, 800, 1200]}\n",
    "clf = GridSearchCV(LogisticRegression(), parameters, refit=True, verbose=1)\n",
    "\n",
    "lr_model = Pipeline([\n",
    "    ('mapper', mapper),\n",
    "    ('imputer', IterativeImputer(random_state=42)),\n",
    "    ('classifier', clf),\n",
    "])\n",
    "\n",
    "lr_model.fit(train, train.target)\n",
    "\n",
    "print('Mejor score: ', round(clf.best_score_, 5))\n",
    "print('Mejores parámetros: \\n', clf.best_params_)\n",
    "evaluate_model(lr_model, title='Logistic Regression', set_names=('train', 'validation'))"
   ]
  },
  {
   "cell_type": "markdown",
   "id": "streaming-hindu",
   "metadata": {},
   "source": [
    "Analizando el mejor resultado obtenido, aplicando un maximo de 400 iteraciones, podemos observar como llegamos a obtener un 76% de accuracy en los sets de validation y train, esto quiere decir que acertamos la prediccion en un 76% de los casos. Adicionalmente, viendo la metrica de precision y recall, podemos ver que acertamos solo un 55% de las veces que indicamos que una persona estaba dispuesta a un cambio de empleo realmente era asi, y que solo pudimos encontrar un 18% de los casos positivos reales. Si vemos el desbalanceo que tenia el dataset (4 a 1) es entendible que cueste más predecir los casos positivos ya que estos son aquellos de los cuales menos entradas posee."
   ]
  },
  {
   "cell_type": "markdown",
   "id": "charitable-gabriel",
   "metadata": {},
   "source": [
    "## KNN"
   ]
  },
  {
   "cell_type": "code",
   "execution_count": 11,
   "id": "basic-fault",
   "metadata": {},
   "outputs": [
    {
     "name": "stdout",
     "output_type": "stream",
     "text": [
      "Fitting 5 folds for each of 3 candidates, totalling 15 fits\n",
      "Mejor score:  0.74848\n",
      "Mejores parámetros: \n",
      " {'n_neighbors': 20}\n"
     ]
    },
    {
     "data": {
      "text/plain": [
       "'KNN'"
      ]
     },
     "metadata": {},
     "output_type": "display_data"
    },
    {
     "data": {
      "text/html": [
       "<div>\n",
       "<style scoped>\n",
       "    .dataframe tbody tr th:only-of-type {\n",
       "        vertical-align: middle;\n",
       "    }\n",
       "\n",
       "    .dataframe tbody tr th {\n",
       "        vertical-align: top;\n",
       "    }\n",
       "\n",
       "    .dataframe thead th {\n",
       "        text-align: right;\n",
       "    }\n",
       "</style>\n",
       "<table border=\"1\" class=\"dataframe\">\n",
       "  <thead>\n",
       "    <tr style=\"text-align: right;\">\n",
       "      <th></th>\n",
       "      <th>Accuracy</th>\n",
       "      <th>Precision</th>\n",
       "      <th>Recall</th>\n",
       "      <th>F1</th>\n",
       "    </tr>\n",
       "  </thead>\n",
       "  <tbody>\n",
       "    <tr>\n",
       "      <th>train</th>\n",
       "      <td>0.762746</td>\n",
       "      <td>0.610870</td>\n",
       "      <td>0.099328</td>\n",
       "      <td>0.170873</td>\n",
       "    </tr>\n",
       "    <tr>\n",
       "      <th>validation</th>\n",
       "      <td>0.749478</td>\n",
       "      <td>0.470588</td>\n",
       "      <td>0.067227</td>\n",
       "      <td>0.117647</td>\n",
       "    </tr>\n",
       "  </tbody>\n",
       "</table>\n",
       "</div>"
      ],
      "text/plain": [
       "            Accuracy  Precision    Recall        F1\n",
       "train       0.762746   0.610870  0.099328  0.170873\n",
       "validation  0.749478   0.470588  0.067227  0.117647"
      ]
     },
     "metadata": {},
     "output_type": "display_data"
    },
    {
     "data": {
      "image/png": "[encoded data removed]",
      "text/plain": [
       "<Figure size 1080x216 with 2 Axes>"
      ]
     },
     "metadata": {
      "needs_background": "light"
     },
     "output_type": "display_data"
    }
   ],
   "source": [
    "parameters = {'n_neighbors':[15, 20, 25]}\n",
    "clf = GridSearchCV(KNeighborsClassifier(), parameters, refit=True, verbose=1)\n",
    "\n",
    "knn_model = Pipeline([\n",
    "    ('mapper', mapper),\n",
    "    ('imputer', IterativeImputer(random_state=42)),\n",
    "    ('classifier', clf),\n",
    "])\n",
    "\n",
    "knn_model.fit(train, train.target)\n",
    "\n",
    "print('Mejor score: ', round(clf.best_score_, 5))\n",
    "print('Mejores parámetros: \\n', clf.best_params_)\n",
    "evaluate_model(knn_model, title='KNN', set_names=('train', 'validation'))"
   ]
  },
  {
   "cell_type": "markdown",
   "id": "provincial-daniel",
   "metadata": {},
   "source": [
    "En este caso, la acuracy para cada uno de los sets dio un valor bastante similar, difiriendo en poco menos de un 2%. La metrica Recall es la más baja, se encontró solo un 6% de los positivos casos reales. Además, en la métrica de Precision vemos una gran diferencia entre los set de train y validation, indicando que porcentualmente acertamos menos cuando trabajamos con un set que no fue de entrenamiento, haciéndolo menos fiable que otras opciones."
   ]
  },
  {
   "cell_type": "markdown",
   "id": "killing-projector",
   "metadata": {},
   "source": [
    "## Decission Tree"
   ]
  },
  {
   "cell_type": "code",
   "execution_count": 7,
   "id": "hidden-mailing",
   "metadata": {},
   "outputs": [
    {
     "name": "stdout",
     "output_type": "stream",
     "text": [
      "Fitting 5 folds for each of 3 candidates, totalling 15 fits\n",
      "Mejor score:  0.76379\n",
      "Mejores parámetros: \n",
      " {'max_depth': 5}\n"
     ]
    },
    {
     "data": {
      "text/plain": [
       "'Decision Tree'"
      ]
     },
     "metadata": {},
     "output_type": "display_data"
    },
    {
     "data": {
      "text/html": [
       "<div>\n",
       "<style scoped>\n",
       "    .dataframe tbody tr th:only-of-type {\n",
       "        vertical-align: middle;\n",
       "    }\n",
       "\n",
       "    .dataframe tbody tr th {\n",
       "        vertical-align: top;\n",
       "    }\n",
       "\n",
       "    .dataframe thead th {\n",
       "        text-align: right;\n",
       "    }\n",
       "</style>\n",
       "<table border=\"1\" class=\"dataframe\">\n",
       "  <thead>\n",
       "    <tr style=\"text-align: right;\">\n",
       "      <th></th>\n",
       "      <th>Accuracy</th>\n",
       "      <th>Precision</th>\n",
       "      <th>Recall</th>\n",
       "      <th>F1</th>\n",
       "    </tr>\n",
       "  </thead>\n",
       "  <tbody>\n",
       "    <tr>\n",
       "      <th>train</th>\n",
       "      <td>0.768662</td>\n",
       "      <td>0.574431</td>\n",
       "      <td>0.231884</td>\n",
       "      <td>0.330395</td>\n",
       "    </tr>\n",
       "    <tr>\n",
       "      <th>validation</th>\n",
       "      <td>0.758090</td>\n",
       "      <td>0.531646</td>\n",
       "      <td>0.220588</td>\n",
       "      <td>0.311804</td>\n",
       "    </tr>\n",
       "  </tbody>\n",
       "</table>\n",
       "</div>"
      ],
      "text/plain": [
       "            Accuracy  Precision    Recall        F1\n",
       "train       0.768662   0.574431  0.231884  0.330395\n",
       "validation  0.758090   0.531646  0.220588  0.311804"
      ]
     },
     "metadata": {},
     "output_type": "display_data"
    },
    {
     "data": {
      "image/png": "[encoded data removed]",
      "text/plain": [
       "<Figure size 1080x216 with 2 Axes>"
      ]
     },
     "metadata": {
      "needs_background": "light"
     },
     "output_type": "display_data"
    }
   ],
   "source": [
    "parameters = {'max_depth':[3, 5, 8]}\n",
    "clf = GridSearchCV(DecisionTreeClassifier(), parameters, refit=True, verbose=1)\n",
    "\n",
    "dt_model = Pipeline([\n",
    "    ('mapper', mapper),\n",
    "    ('imputer', IterativeImputer(random_state=42)),\n",
    "    ('classifier', clf),\n",
    "])\n",
    "\n",
    "dt_model.fit(train, train.target)\n",
    "\n",
    "print('Mejor score: ', round(clf.best_score_, 5))\n",
    "print('Mejores parámetros: \\n', clf.best_params_)\n",
    "evaluate_model(dt_model, title='Decision Tree', set_names=('train', 'validation'))"
   ]
  },
  {
   "cell_type": "markdown",
   "id": "technological-protest",
   "metadata": {},
   "source": [
    "Este es el modelo más esperanzador de todos, donde podemos ver el mayor valor de F1 obtenido, separándolo en Precision y Recall se puede ver como Precision posee valores muy similares a lo obtenido en Regresion Logística, y donde principalmente destaca, es en la metrica de Recall indicando que en este caso encontramos aún más valores postivos que en los modelos previos.\n",
    "\n",
    "Accuracy no posee diferencia respecto al resto de modelos."
   ]
  },
  {
   "cell_type": "code",
   "execution_count": 8,
   "id": "quality-audio",
   "metadata": {},
   "outputs": [],
   "source": [
    "def graph_tree(tree, col_names):\n",
    "    graph_data = export_graphviz(\n",
    "        tree, \n",
    "        out_file=None, \n",
    "        feature_names=col_names,  \n",
    "        class_names=['change', 'no change'],  \n",
    "        filled=True, \n",
    "        rounded=True,  \n",
    "        special_characters=True,\n",
    "    )\n",
    "    graph = graphviz.Source(graph_data)  \n",
    "    return graph"
   ]
  },
  {
   "cell_type": "code",
   "execution_count": 9,
   "id": "molecular-optics",
   "metadata": {},
   "outputs": [
    {
     "ename": "NameError",
     "evalue": "name 'export_graphviz' is not defined",
     "output_type": "error",
     "traceback": [
      "\u001b[1;31m---------------------------------------------------------------------------\u001b[0m",
      "\u001b[1;31mNameError\u001b[0m                                 Traceback (most recent call last)",
      "\u001b[1;32m<ipython-input-9-53fab0574b25>\u001b[0m in \u001b[0;36m<module>\u001b[1;34m\u001b[0m\n\u001b[1;32m----> 1\u001b[1;33m \u001b[0mgraph_tree\u001b[0m\u001b[1;33m(\u001b[0m\u001b[0mclf\u001b[0m\u001b[1;33m.\u001b[0m\u001b[0mbest_estimator_\u001b[0m\u001b[1;33m,\u001b[0m \u001b[0mmapper\u001b[0m\u001b[1;33m.\u001b[0m\u001b[0mtransformed_names_\u001b[0m\u001b[1;33m)\u001b[0m\u001b[1;33m\u001b[0m\u001b[1;33m\u001b[0m\u001b[0m\n\u001b[0m",
      "\u001b[1;32m<ipython-input-8-2995c39fea14>\u001b[0m in \u001b[0;36mgraph_tree\u001b[1;34m(tree, col_names)\u001b[0m\n\u001b[0;32m      1\u001b[0m \u001b[1;32mdef\u001b[0m \u001b[0mgraph_tree\u001b[0m\u001b[1;33m(\u001b[0m\u001b[0mtree\u001b[0m\u001b[1;33m,\u001b[0m \u001b[0mcol_names\u001b[0m\u001b[1;33m)\u001b[0m\u001b[1;33m:\u001b[0m\u001b[1;33m\u001b[0m\u001b[1;33m\u001b[0m\u001b[0m\n\u001b[1;32m----> 2\u001b[1;33m     graph_data = export_graphviz(\n\u001b[0m\u001b[0;32m      3\u001b[0m         \u001b[0mtree\u001b[0m\u001b[1;33m,\u001b[0m\u001b[1;33m\u001b[0m\u001b[1;33m\u001b[0m\u001b[0m\n\u001b[0;32m      4\u001b[0m         \u001b[0mout_file\u001b[0m\u001b[1;33m=\u001b[0m\u001b[1;32mNone\u001b[0m\u001b[1;33m,\u001b[0m\u001b[1;33m\u001b[0m\u001b[1;33m\u001b[0m\u001b[0m\n\u001b[0;32m      5\u001b[0m         \u001b[0mfeature_names\u001b[0m\u001b[1;33m=\u001b[0m\u001b[0mcol_names\u001b[0m\u001b[1;33m,\u001b[0m\u001b[1;33m\u001b[0m\u001b[1;33m\u001b[0m\u001b[0m\n",
      "\u001b[1;31mNameError\u001b[0m: name 'export_graphviz' is not defined"
     ]
    }
   ],
   "source": [
    "graph_tree(clf.best_estimator_, mapper.transformed_names_)"
   ]
  },
  {
   "cell_type": "markdown",
   "id": "worthy-convert",
   "metadata": {},
   "source": [
    "# Información para el cliente"
   ]
  },
  {
   "cell_type": "markdown",
   "id": "accompanied-programming",
   "metadata": {},
   "source": [
    "A la hora de mostrarle al cliente se le mostrara el algoritmo aplicado sobre el dataset de test para asegurarse de que se evalue sobre un set de datos que no ha sido utilizado para entrenamiento. Se tendran en cuenta unicamente las métricas de Accuracy que serviran para indicar el porcentaje de aciertos y la metrica F1 como conjuncion de Precision y Recall, para mostrar la relación de aciertos en los valores positivos."
   ]
  },
  {
   "cell_type": "markdown",
   "id": "medieval-spread",
   "metadata": {},
   "source": [
    "### LR"
   ]
  },
  {
   "cell_type": "code",
   "execution_count": null,
   "id": "convinced-cycling",
   "metadata": {
    "scrolled": true
   },
   "outputs": [],
   "source": [
    "evaluate_model(lr_model, title='Decision Tree', set_names=('train','test'))"
   ]
  },
  {
   "cell_type": "markdown",
   "id": "promotional-favor",
   "metadata": {},
   "source": [
    " * **F1 = 0.27**\n",
    " \n",
    " * **Accuracy = 0.74**"
   ]
  },
  {
   "cell_type": "markdown",
   "id": "separate-frame",
   "metadata": {},
   "source": [
    "### KNN"
   ]
  },
  {
   "cell_type": "code",
   "execution_count": 10,
   "id": "abstract-timothy",
   "metadata": {},
   "outputs": [
    {
     "data": {
      "text/plain": [
       "'Decision Tree'"
      ]
     },
     "metadata": {},
     "output_type": "display_data"
    },
    {
     "data": {
      "text/html": [
       "<div>\n",
       "<style scoped>\n",
       "    .dataframe tbody tr th:only-of-type {\n",
       "        vertical-align: middle;\n",
       "    }\n",
       "\n",
       "    .dataframe tbody tr th {\n",
       "        vertical-align: top;\n",
       "    }\n",
       "\n",
       "    .dataframe thead th {\n",
       "        text-align: right;\n",
       "    }\n",
       "</style>\n",
       "<table border=\"1\" class=\"dataframe\">\n",
       "  <thead>\n",
       "    <tr style=\"text-align: right;\">\n",
       "      <th></th>\n",
       "      <th>Accuracy</th>\n",
       "      <th>Precision</th>\n",
       "      <th>Recall</th>\n",
       "      <th>F1</th>\n",
       "    </tr>\n",
       "  </thead>\n",
       "  <tbody>\n",
       "    <tr>\n",
       "      <th>train</th>\n",
       "      <td>0.762746</td>\n",
       "      <td>0.610870</td>\n",
       "      <td>0.099328</td>\n",
       "      <td>0.170873</td>\n",
       "    </tr>\n",
       "    <tr>\n",
       "      <th>test</th>\n",
       "      <td>0.742432</td>\n",
       "      <td>0.529412</td>\n",
       "      <td>0.081325</td>\n",
       "      <td>0.140992</td>\n",
       "    </tr>\n",
       "  </tbody>\n",
       "</table>\n",
       "</div>"
      ],
      "text/plain": [
       "       Accuracy  Precision    Recall        F1\n",
       "train  0.762746   0.610870  0.099328  0.170873\n",
       "test   0.742432   0.529412  0.081325  0.140992"
      ]
     },
     "metadata": {},
     "output_type": "display_data"
    },
    {
     "data": {
      "image/png": "[encoded data removed]",
      "text/plain": [
       "<Figure size 1080x216 with 2 Axes>"
      ]
     },
     "metadata": {
      "needs_background": "light"
     },
     "output_type": "display_data"
    }
   ],
   "source": [
    "evaluate_model(knn_model, title='Decision Tree', set_names=('train','test'))"
   ]
  },
  {
   "cell_type": "markdown",
   "id": "moving-economy",
   "metadata": {},
   "source": [
    " * **F1 = 0.14**\n",
    " \n",
    " * **Accuracy = 0.74**"
   ]
  },
  {
   "cell_type": "markdown",
   "id": "lonely-distributor",
   "metadata": {},
   "source": [
    "### Decision Tree"
   ]
  },
  {
   "cell_type": "code",
   "execution_count": 14,
   "id": "weighted-helping",
   "metadata": {},
   "outputs": [
    {
     "data": {
      "text/plain": [
       "'Decision Tree'"
      ]
     },
     "metadata": {},
     "output_type": "display_data"
    },
    {
     "data": {
      "text/html": [
       "<div>\n",
       "<style scoped>\n",
       "    .dataframe tbody tr th:only-of-type {\n",
       "        vertical-align: middle;\n",
       "    }\n",
       "\n",
       "    .dataframe tbody tr th {\n",
       "        vertical-align: top;\n",
       "    }\n",
       "\n",
       "    .dataframe thead th {\n",
       "        text-align: right;\n",
       "    }\n",
       "</style>\n",
       "<table border=\"1\" class=\"dataframe\">\n",
       "  <thead>\n",
       "    <tr style=\"text-align: right;\">\n",
       "      <th></th>\n",
       "      <th>Accuracy</th>\n",
       "      <th>Precision</th>\n",
       "      <th>Recall</th>\n",
       "      <th>F1</th>\n",
       "    </tr>\n",
       "  </thead>\n",
       "  <tbody>\n",
       "    <tr>\n",
       "      <th>test</th>\n",
       "      <td>0.751827</td>\n",
       "      <td>0.561644</td>\n",
       "      <td>0.205823</td>\n",
       "      <td>0.301249</td>\n",
       "    </tr>\n",
       "    <tr>\n",
       "      <th>train</th>\n",
       "      <td>0.768662</td>\n",
       "      <td>0.574431</td>\n",
       "      <td>0.231884</td>\n",
       "      <td>0.330395</td>\n",
       "    </tr>\n",
       "  </tbody>\n",
       "</table>\n",
       "</div>"
      ],
      "text/plain": [
       "       Accuracy  Precision    Recall        F1\n",
       "test   0.751827   0.561644  0.205823  0.301249\n",
       "train  0.768662   0.574431  0.231884  0.330395"
      ]
     },
     "metadata": {},
     "output_type": "display_data"
    },
    {
     "data": {
      "image/png": "[encoded data removed]",
      "text/plain": [
       "<Figure size 1080x216 with 2 Axes>"
      ]
     },
     "metadata": {
      "needs_background": "light"
     },
     "output_type": "display_data"
    }
   ],
   "source": [
    "evaluate_model(dt_model, title='Decision Tree', set_names=('test','train'))"
   ]
  },
  {
   "cell_type": "markdown",
   "id": "funky-character",
   "metadata": {},
   "source": [
    " * **F1 = 0.30**\n",
    " \n",
    " * **Accuracy = 0.75**\n",
    " \n",
    " \n",
    " **Decisions Tree** resulto ser el que tiene valores más prometedores, a pesar de que ninguno dio valores suficientemente confiables. "
   ]
  },
  {
   "cell_type": "code",
   "execution_count": null,
   "id": "bd2fe9b0",
   "metadata": {},
   "outputs": [],
   "source": []
  }
 ],
 "metadata": {
  "kernelspec": {
   "display_name": "Python 3",
   "language": "python",
   "name": "python3"
  },
  "language_info": {
   "codemirror_mode": {
    "name": "ipython",
    "version": 3
   },
   "file_extension": ".py",
   "mimetype": "text/x-python",
   "name": "python",
   "nbconvert_exporter": "python",
   "pygments_lexer": "ipython3",
   "version": "3.8.8"
  }
 },
 "nbformat": 4,
 "nbformat_minor": 5
}
