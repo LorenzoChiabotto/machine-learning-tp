{
 "cells": [
  {
   "cell_type": "code",
   "execution_count": 1,
   "id": "enclosed-collector",
   "metadata": {},
   "outputs": [],
   "source": [
    "# de python, para especificar rutas de archivos y directorios\n",
    "from pathlib import Path\n",
    "\n",
    "# lib para trabajar con arrays\n",
    "import numpy as np\n",
    "\n",
    "# lib que usamos para mostrar las imágenes\n",
    "import matplotlib.pyplot as plt\n",
    "\n",
    "# libs que usamos para construir y entrenar redes neuronales, y que además tiene utilidades para leer sets de \n",
    "# imágenes\n",
    "from keras.preprocessing import image_dataset_from_directory\n",
    "from keras.models import Sequential\n",
    "from keras.layers import Dense, Input, Dropout, Convolution2D, MaxPooling2D, Flatten\n",
    "from keras.layers.experimental.preprocessing import Rescaling\n",
    "from keras.preprocessing.image import load_img, img_to_array\n",
    "\n",
    "# libs que usamos para tareas generales de machine learning. En este caso, métricas\n",
    "from sklearn.metrics import accuracy_score, confusion_matrix\n",
    "\n",
    "# configuración para que las imágenes se vean dentro del notebook\n",
    "%matplotlib inline"
   ]
  },
  {
   "cell_type": "code",
   "execution_count": 2,
   "id": "collective-infrastructure",
   "metadata": {},
   "outputs": [],
   "source": [
    "CLASSES = \"cats\", \"dogs\"\n",
    "TRAIN_DIR = Path('./imagenes_tp3_cv/training_set')\n",
    "TEST_DIR = Path('./imagenes_tp3_cv/test_set')"
   ]
  },
  {
   "cell_type": "code",
   "execution_count": 3,
   "id": "injured-carry",
   "metadata": {},
   "outputs": [],
   "source": [
    "from PIL import Image\n",
    "import os, os.path\n",
    "from collections import Counter\n",
    "\n",
    "\n",
    "imgs = []\n",
    "paths = ['./imagenes_tp3_cv/test_set/cats','./imagenes_tp3_cv/test_set/dogs']\n",
    "valid_images = [\".jpg\",\".gif\",\".png\",\".tga\"]\n",
    "for path in paths:\n",
    "    for f in os.listdir(path):\n",
    "        ext = os.path.splitext(f)[1]\n",
    "        if ext.lower() not in valid_images:\n",
    "            continue\n",
    "        imgs.append(Image.open(os.path.join(path,f)))\n"
   ]
  },
  {
   "cell_type": "code",
   "execution_count": 4,
   "id": "informational-clothing",
   "metadata": {},
   "outputs": [
    {
     "name": "stdout",
     "output_type": "stream",
     "text": [
      "Resolución mas frecuente:  (335, 500)\n"
     ]
    }
   ],
   "source": [
    "counter = dict(Counter(getattr(image, 'size') for image in imgs))\n",
    "counter\n",
    "c = max(counter, key = lambda x: x[1])\n",
    "print(\"Resolución mas frecuente: \", c)\n",
    "width=64 #c[0]\n",
    "height=64 #c[1]"
   ]
  },
  {
   "cell_type": "code",
   "execution_count": 5,
   "id": "ranking-roads",
   "metadata": {},
   "outputs": [
    {
     "name": "stdout",
     "output_type": "stream",
     "text": [
      "Found 8005 files belonging to 2 classes.\n",
      "Found 2023 files belonging to 2 classes.\n"
     ]
    }
   ],
   "source": [
    "train = image_dataset_from_directory(\n",
    "    TRAIN_DIR,\n",
    "    labels=\"inferred\",\n",
    "    label_mode=\"categorical\",\n",
    "    class_names=CLASSES,\n",
    "    color_mode=\"rgb\",\n",
    "    image_size=(width, height),\n",
    "    shuffle=True,\n",
    "    seed=14,\n",
    ")\n",
    "\n",
    "test = image_dataset_from_directory(\n",
    "    TEST_DIR,\n",
    "    labels=\"inferred\",\n",
    "    label_mode=\"categorical\",\n",
    "    class_names=CLASSES,\n",
    "    color_mode=\"rgb\",\n",
    "    image_size=(width, height),\n",
    "    shuffle=True,\n",
    "    seed=14,\n",
    ")"
   ]
  },
  {
   "cell_type": "code",
   "execution_count": null,
   "id": "every-philip",
   "metadata": {},
   "outputs": [],
   "source": [
    "def sample_images(dataset):\n",
    "    plt.figure(figsize=(10, 10))\n",
    "    for images, labels in dataset.take(1):\n",
    "        for i in range(9):\n",
    "            ax = plt.subplot(3, 3, i + 1)\n",
    "            plt.imshow(images[i].numpy().astype(\"uint8\"))\n",
    "            plt.title(CLASSES[np.argmax(labels[i])])\n",
    "            plt.axis(\"off\")\n",
    "sample_images(train)"
   ]
  },
  {
   "cell_type": "markdown",
   "id": "bound-montgomery",
   "metadata": {},
   "source": [
    "# MLP Simple"
   ]
  },
  {
   "cell_type": "code",
   "execution_count": 12,
   "id": "legendary-religion",
   "metadata": {},
   "outputs": [],
   "source": [
    "model = Sequential([\n",
    "    Rescaling(1/255, input_shape=(width, height, 3)),\n",
    "    \n",
    "    Convolution2D(filters=16, kernel_size=(3, 3), strides=1, activation='relu'),\n",
    "    Dropout(0.2),\n",
    "    \n",
    "    \n",
    "    Convolution2D(filters=8, kernel_size=(3, 3), strides=1, activation='relu'),\n",
    "    Dropout(0.2),\n",
    "    \n",
    "    \n",
    "    Convolution2D(filters=8, kernel_size=(3, 3), strides=1, activation='relu'),\n",
    "    Dropout(0.2),\n",
    "    \n",
    "    \n",
    "    MaxPooling2D(pool_size=(4, 4)),\n",
    "    # salida de 14x14x8\n",
    "    \n",
    "    \n",
    "    Flatten(),\n",
    "    \n",
    "    #Dense(100, activation='tanh'),\n",
    "    #Dropout(0.2),    \n",
    "    \n",
    "    Dense(10, activation='tanh'),\n",
    "    Dropout(0.2),\n",
    "        \n",
    "    Dense(10, activation='tanh'),\n",
    "    Dropout(0.2),\n",
    "    \n",
    "    Dense(len(CLASSES), activation='softmax'),\n",
    "])\n",
    "\n",
    "model.compile(\n",
    "    optimizer='adam',\n",
    "    loss='categorical_crossentropy',\n",
    "    metrics=['accuracy',],\n",
    ")"
   ]
  },
  {
   "cell_type": "code",
   "execution_count": 14,
   "id": "silver-insight",
   "metadata": {},
   "outputs": [
    {
     "name": "stdout",
     "output_type": "stream",
     "text": [
      "Epoch 1/5\n",
      "251/251 [==============================] - 28s 111ms/step - loss: 0.5896 - accuracy: 0.6892 - val_loss: 0.5961 - val_accuracy: 0.6767\n",
      "Epoch 2/5\n",
      "251/251 [==============================] - 28s 110ms/step - loss: 0.5713 - accuracy: 0.7064 - val_loss: 0.5648 - val_accuracy: 0.7019\n",
      "Epoch 3/5\n",
      "251/251 [==============================] - 28s 109ms/step - loss: 0.5497 - accuracy: 0.7265 - val_loss: 0.5727 - val_accuracy: 0.6851\n",
      "Epoch 4/5\n",
      "251/251 [==============================] - 28s 109ms/step - loss: 0.5302 - accuracy: 0.7409 - val_loss: 0.5662 - val_accuracy: 0.6975\n",
      "Epoch 5/5\n",
      "251/251 [==============================] - 28s 112ms/step - loss: 0.5172 - accuracy: 0.7462 - val_loss: 0.5512 - val_accuracy: 0.7113\n"
     ]
    },
    {
     "data": {
      "image/png": "[encoded data removed]",
      "text/plain": [
       "<Figure size 432x288 with 1 Axes>"
      ]
     },
     "metadata": {
      "needs_background": "light"
     },
     "output_type": "display_data"
    }
   ],
   "source": [
    "history = model.fit(\n",
    "    train,\n",
    "    epochs=5,\n",
    "    batch_size=128,\n",
    "    validation_data=test,\n",
    ")\n",
    "\n",
    "plt.plot(history.history['accuracy'], label='train')\n",
    "plt.plot(history.history['val_accuracy'], label='validation')\n",
    "plt.title('Accuracy over train epochs')\n",
    "plt.ylabel('Accuracy')\n",
    "plt.xlabel('Epoch')\n",
    "plt.legend(loc='upper left')\n",
    "plt.show()"
   ]
  },
  {
   "cell_type": "code",
   "execution_count": null,
   "id": "patent-crystal",
   "metadata": {},
   "outputs": [],
   "source": [
    "plt.plot(history.history['accuracy'], label='train')\n",
    "plt.plot(history.history['val_accuracy'], label='validation')\n",
    "plt.title('Accuracy over train epochs')\n",
    "plt.ylabel('Accuracy')\n",
    "plt.xlabel('Epoch')\n",
    "plt.legend(loc='upper left')\n",
    "plt.show()"
   ]
  },
  {
   "cell_type": "code",
   "execution_count": null,
   "id": "adjacent-assist",
   "metadata": {},
   "outputs": [],
   "source": [
    "datasets = (\n",
    "    (\"train\", train),\n",
    "    (\"test\", test),   \n",
    ")\n",
    "\n",
    "for dataset_name, dataset in datasets:\n",
    "    print('#' * 25, dataset_name, '#' * 25)\n",
    "\n",
    "    # el dataset se itera en batches, así que calculams predicciones y labels por cada batch, y luego \n",
    "    # concatenamos todo\n",
    "    batches_predictions = []\n",
    "    batches_labels =  []\n",
    "    \n",
    "    for batch_images, batch_labels in dataset:\n",
    "        # super importante: usamos argmax para convertir cosas de este formato:\n",
    "        # [(0, 1, 0), (1, 0, 0), (1, 0, 0), (0, 0, 1)]\n",
    "        # a este formato (donde tenemos el índice de la clase que tiene número más alto):\n",
    "        # [1, 0, 0, 2]\n",
    "        batches_predictions.append(np.argmax(model.predict(batch_images), axis=-1))\n",
    "        batches_labels.append(np.argmax(batch_labels, axis=-1))\n",
    "\n",
    "    predictions = np.concatenate(batches_predictions)\n",
    "    labels = np.concatenate(batches_labels)\n",
    "    \n",
    "    print('accuracy', accuracy_score(labels, predictions))\n",
    "\n",
    "    # graficamos la confussion matrix\n",
    "    plt.figure(figsize=(3, 4))\n",
    "        \n",
    "    plt.xticks([0, 1], CLASSES, rotation=45)\n",
    "    plt.yticks([0, 1], CLASSES)\n",
    "    plt.xlabel('Predicted class')\n",
    "    plt.ylabel('True class')\n",
    "\n",
    "    plt.imshow(\n",
    "        confusion_matrix(labels, predictions), \n",
    "        cmap=plt.cm.Blues,\n",
    "        interpolation='nearest',\n",
    "    )\n",
    "\n",
    "    plt.show()"
   ]
  }
 ],
 "metadata": {
  "kernelspec": {
   "display_name": "Python 3",
   "language": "python",
   "name": "python3"
  },
  "language_info": {
   "codemirror_mode": {
    "name": "ipython",
    "version": 3
   },
   "file_extension": ".py",
   "mimetype": "text/x-python",
   "name": "python",
   "nbconvert_exporter": "python",
   "pygments_lexer": "ipython3",
   "version": "3.8.3"
  }
 },
 "nbformat": 4,
 "nbformat_minor": 5
}
