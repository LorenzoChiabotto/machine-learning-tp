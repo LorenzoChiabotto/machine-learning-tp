{
 "cells": [
  {
   "cell_type": "markdown",
   "id": "signal-facility",
   "metadata": {},
   "source": [
    "# Entrega 1"
   ]
  },
  {
   "cell_type": "markdown",
   "id": "ecological-scheduling",
   "metadata": {},
   "source": [
    "### Integrantes:\n",
    "\n",
    "* Chiabotto Lorenzo\n",
    "* Bertone Matias\n",
    "* Storani Gianfranco"
   ]
  },
  {
   "cell_type": "markdown",
   "id": "equipped-blood",
   "metadata": {},
   "source": [
    "### Dataset\n",
    "[HR Analytics: Job Change of Data Scientists](https://www.kaggle.com/arashnic/hr-analytics-job-change-of-data-scientists?select=aug_train.csv)\n",
    "\n"
   ]
  },
  {
   "cell_type": "markdown",
   "id": "dried-product",
   "metadata": {},
   "source": [
    "#### Dataset sample"
   ]
  },
  {
   "cell_type": "code",
   "execution_count": 21,
   "id": "false-mount",
   "metadata": {
    "scrolled": true
   },
   "outputs": [
    {
     "data": {
      "text/html": [
       "<div>\n",
       "<style scoped>\n",
       "    .dataframe tbody tr th:only-of-type {\n",
       "        vertical-align: middle;\n",
       "    }\n",
       "\n",
       "    .dataframe tbody tr th {\n",
       "        vertical-align: top;\n",
       "    }\n",
       "\n",
       "    .dataframe thead th {\n",
       "        text-align: right;\n",
       "    }\n",
       "</style>\n",
       "<table border=\"1\" class=\"dataframe\">\n",
       "  <thead>\n",
       "    <tr style=\"text-align: right;\">\n",
       "      <th></th>\n",
       "      <th>enrollee_id</th>\n",
       "      <th>city</th>\n",
       "      <th>city_development_index</th>\n",
       "      <th>gender</th>\n",
       "      <th>relevent_experience</th>\n",
       "      <th>enrolled_university</th>\n",
       "      <th>education_level</th>\n",
       "      <th>major_discipline</th>\n",
       "      <th>experience</th>\n",
       "      <th>company_size</th>\n",
       "      <th>company_type</th>\n",
       "      <th>last_new_job</th>\n",
       "      <th>training_hours</th>\n",
       "      <th>target</th>\n",
       "    </tr>\n",
       "  </thead>\n",
       "  <tbody>\n",
       "    <tr>\n",
       "      <th>8109</th>\n",
       "      <td>28023</td>\n",
       "      <td>city_134</td>\n",
       "      <td>0.698</td>\n",
       "      <td>Male</td>\n",
       "      <td>No relevent experience</td>\n",
       "      <td>no_enrollment</td>\n",
       "      <td>Masters</td>\n",
       "      <td>STEM</td>\n",
       "      <td>12</td>\n",
       "      <td>500-999</td>\n",
       "      <td>NGO</td>\n",
       "      <td>1</td>\n",
       "      <td>157</td>\n",
       "      <td>0.0</td>\n",
       "    </tr>\n",
       "    <tr>\n",
       "      <th>8894</th>\n",
       "      <td>4080</td>\n",
       "      <td>city_21</td>\n",
       "      <td>0.624</td>\n",
       "      <td>Male</td>\n",
       "      <td>Has relevent experience</td>\n",
       "      <td>no_enrollment</td>\n",
       "      <td>Graduate</td>\n",
       "      <td>STEM</td>\n",
       "      <td>11</td>\n",
       "      <td>100-500</td>\n",
       "      <td>Pvt Ltd</td>\n",
       "      <td>1</td>\n",
       "      <td>10</td>\n",
       "      <td>1.0</td>\n",
       "    </tr>\n",
       "    <tr>\n",
       "      <th>17463</th>\n",
       "      <td>9409</td>\n",
       "      <td>city_84</td>\n",
       "      <td>0.698</td>\n",
       "      <td>Other</td>\n",
       "      <td>Has relevent experience</td>\n",
       "      <td>no_enrollment</td>\n",
       "      <td>Graduate</td>\n",
       "      <td>STEM</td>\n",
       "      <td>4</td>\n",
       "      <td>50-99</td>\n",
       "      <td>Pvt Ltd</td>\n",
       "      <td>3</td>\n",
       "      <td>50</td>\n",
       "      <td>0.0</td>\n",
       "    </tr>\n",
       "    <tr>\n",
       "      <th>5992</th>\n",
       "      <td>8144</td>\n",
       "      <td>city_114</td>\n",
       "      <td>0.926</td>\n",
       "      <td>Male</td>\n",
       "      <td>Has relevent experience</td>\n",
       "      <td>Part time course</td>\n",
       "      <td>Graduate</td>\n",
       "      <td>STEM</td>\n",
       "      <td>9</td>\n",
       "      <td>10/49</td>\n",
       "      <td>Pvt Ltd</td>\n",
       "      <td>NaN</td>\n",
       "      <td>51</td>\n",
       "      <td>0.0</td>\n",
       "    </tr>\n",
       "    <tr>\n",
       "      <th>4583</th>\n",
       "      <td>25853</td>\n",
       "      <td>city_67</td>\n",
       "      <td>0.855</td>\n",
       "      <td>Male</td>\n",
       "      <td>Has relevent experience</td>\n",
       "      <td>no_enrollment</td>\n",
       "      <td>Masters</td>\n",
       "      <td>STEM</td>\n",
       "      <td>7</td>\n",
       "      <td>NaN</td>\n",
       "      <td>NaN</td>\n",
       "      <td>1</td>\n",
       "      <td>112</td>\n",
       "      <td>0.0</td>\n",
       "    </tr>\n",
       "    <tr>\n",
       "      <th>11037</th>\n",
       "      <td>6297</td>\n",
       "      <td>city_134</td>\n",
       "      <td>0.698</td>\n",
       "      <td>NaN</td>\n",
       "      <td>Has relevent experience</td>\n",
       "      <td>NaN</td>\n",
       "      <td>NaN</td>\n",
       "      <td>NaN</td>\n",
       "      <td>4</td>\n",
       "      <td>NaN</td>\n",
       "      <td>NaN</td>\n",
       "      <td>never</td>\n",
       "      <td>20</td>\n",
       "      <td>0.0</td>\n",
       "    </tr>\n",
       "    <tr>\n",
       "      <th>17285</th>\n",
       "      <td>19532</td>\n",
       "      <td>city_114</td>\n",
       "      <td>0.926</td>\n",
       "      <td>NaN</td>\n",
       "      <td>Has relevent experience</td>\n",
       "      <td>no_enrollment</td>\n",
       "      <td>Masters</td>\n",
       "      <td>STEM</td>\n",
       "      <td>&gt;20</td>\n",
       "      <td>50-99</td>\n",
       "      <td>Pvt Ltd</td>\n",
       "      <td>4</td>\n",
       "      <td>43</td>\n",
       "      <td>0.0</td>\n",
       "    </tr>\n",
       "    <tr>\n",
       "      <th>6064</th>\n",
       "      <td>22503</td>\n",
       "      <td>city_21</td>\n",
       "      <td>0.624</td>\n",
       "      <td>NaN</td>\n",
       "      <td>Has relevent experience</td>\n",
       "      <td>Full time course</td>\n",
       "      <td>Graduate</td>\n",
       "      <td>STEM</td>\n",
       "      <td>3</td>\n",
       "      <td>NaN</td>\n",
       "      <td>NaN</td>\n",
       "      <td>NaN</td>\n",
       "      <td>72</td>\n",
       "      <td>0.0</td>\n",
       "    </tr>\n",
       "    <tr>\n",
       "      <th>18639</th>\n",
       "      <td>15262</td>\n",
       "      <td>city_160</td>\n",
       "      <td>0.920</td>\n",
       "      <td>Male</td>\n",
       "      <td>Has relevent experience</td>\n",
       "      <td>no_enrollment</td>\n",
       "      <td>Graduate</td>\n",
       "      <td>STEM</td>\n",
       "      <td>9</td>\n",
       "      <td>10/49</td>\n",
       "      <td>Funded Startup</td>\n",
       "      <td>2</td>\n",
       "      <td>18</td>\n",
       "      <td>0.0</td>\n",
       "    </tr>\n",
       "    <tr>\n",
       "      <th>9469</th>\n",
       "      <td>22172</td>\n",
       "      <td>city_61</td>\n",
       "      <td>0.913</td>\n",
       "      <td>Male</td>\n",
       "      <td>Has relevent experience</td>\n",
       "      <td>no_enrollment</td>\n",
       "      <td>Graduate</td>\n",
       "      <td>STEM</td>\n",
       "      <td>&gt;20</td>\n",
       "      <td>1000-4999</td>\n",
       "      <td>Pvt Ltd</td>\n",
       "      <td>&gt;4</td>\n",
       "      <td>12</td>\n",
       "      <td>0.0</td>\n",
       "    </tr>\n",
       "  </tbody>\n",
       "</table>\n",
       "</div>"
      ],
      "text/plain": [
       "       enrollee_id      city  city_development_index gender  \\\n",
       "8109         28023  city_134                   0.698   Male   \n",
       "8894          4080   city_21                   0.624   Male   \n",
       "17463         9409   city_84                   0.698  Other   \n",
       "5992          8144  city_114                   0.926   Male   \n",
       "4583         25853   city_67                   0.855   Male   \n",
       "11037         6297  city_134                   0.698    NaN   \n",
       "17285        19532  city_114                   0.926    NaN   \n",
       "6064         22503   city_21                   0.624    NaN   \n",
       "18639        15262  city_160                   0.920   Male   \n",
       "9469         22172   city_61                   0.913   Male   \n",
       "\n",
       "           relevent_experience enrolled_university education_level  \\\n",
       "8109    No relevent experience       no_enrollment         Masters   \n",
       "8894   Has relevent experience       no_enrollment        Graduate   \n",
       "17463  Has relevent experience       no_enrollment        Graduate   \n",
       "5992   Has relevent experience    Part time course        Graduate   \n",
       "4583   Has relevent experience       no_enrollment         Masters   \n",
       "11037  Has relevent experience                 NaN             NaN   \n",
       "17285  Has relevent experience       no_enrollment         Masters   \n",
       "6064   Has relevent experience    Full time course        Graduate   \n",
       "18639  Has relevent experience       no_enrollment        Graduate   \n",
       "9469   Has relevent experience       no_enrollment        Graduate   \n",
       "\n",
       "      major_discipline experience company_size    company_type last_new_job  \\\n",
       "8109              STEM         12      500-999             NGO            1   \n",
       "8894              STEM         11      100-500         Pvt Ltd            1   \n",
       "17463             STEM          4        50-99         Pvt Ltd            3   \n",
       "5992              STEM          9        10/49         Pvt Ltd          NaN   \n",
       "4583              STEM          7          NaN             NaN            1   \n",
       "11037              NaN          4          NaN             NaN        never   \n",
       "17285             STEM        >20        50-99         Pvt Ltd            4   \n",
       "6064              STEM          3          NaN             NaN          NaN   \n",
       "18639             STEM          9        10/49  Funded Startup            2   \n",
       "9469              STEM        >20    1000-4999         Pvt Ltd           >4   \n",
       "\n",
       "       training_hours  target  \n",
       "8109              157     0.0  \n",
       "8894               10     1.0  \n",
       "17463              50     0.0  \n",
       "5992               51     0.0  \n",
       "4583              112     0.0  \n",
       "11037              20     0.0  \n",
       "17285              43     0.0  \n",
       "6064               72     0.0  \n",
       "18639              18     0.0  \n",
       "9469               12     0.0  "
      ]
     },
     "execution_count": 21,
     "metadata": {},
     "output_type": "execute_result"
    }
   ],
   "source": [
    "import pandas as pd\n",
    "import numpy as np\n",
    "%matplotlib inline\n",
    "import matplotlib.pyplot as plt\n",
    "import seaborn as sns\n",
    "\n",
    "train = pd.read_csv('./dataset/aug_train.csv')\n",
    "train.sample(10)"
   ]
  },
  {
   "cell_type": "markdown",
   "id": "injured-immune",
   "metadata": {},
   "source": [
    " "
   ]
  },
  {
   "cell_type": "markdown",
   "id": "industrial-aspect",
   "metadata": {},
   "source": [
    "# 1. Listado de variables"
   ]
  },
  {
   "cell_type": "markdown",
   "id": "consolidated-hearts",
   "metadata": {},
   "source": [
    "* **enrollee_id** : ID unico para cada candidato. *(No se utiliza)*\n",
    "\n",
    "* **city**: Codigo de la ciudad. *(Variable de entrada)*\n",
    "\n",
    "* **city_development_index** : Indice de desarrollo de la ciudad. *(Variable de entrada)*\n",
    "\n",
    "* **gender**: Genero. *(Variable de entrada)*\n",
    "\n",
    "* **relevent_experience**: Si el candiato tiene experiencia relevante en el area de la nueva empresa. *(Variable de entrada)*\n",
    "\n",
    "* **enrolled_university**: Tipo de curso universitario matriculado. *(Variable de entrada)*\n",
    " \n",
    "* **education_level**: Nivel de educacion del candidato. *(Variable de entrada)*\n",
    "\n",
    "* **major_discipline** :Disciplina principal del candidato. *(Variable de entrada)*\n",
    "\n",
    "* **experience**: Experiencia total del candidato en años. *(Variable de entrada)*\n",
    "\n",
    "* **company_size**: Cantidad de empleados actuales en la compania. *(Variable de entrada)*\n",
    "\n",
    "* **company_type** : Tipo de compania. *(Variable de entrada)*\n",
    "\n",
    "* **lastnewjob**: Diferencia en años entre su trabajo previo y el acutal. *(Variable de entrada)*\n",
    "\n",
    "* **training_hours**: Horas de entrenamiento completadas. *(Variable de entrada)*\n",
    "\n",
    "* **target**: 0 – No esta buscando un cambio de laburo, 1 – Esta buscando un cambio de laburo. *(Variable de salida)*"
   ]
  },
  {
   "cell_type": "markdown",
   "id": "aboriginal-circulation",
   "metadata": {},
   "source": [
    "# 2.  Análisis detallado"
   ]
  },
  {
   "cell_type": "markdown",
   "id": "protected-printer",
   "metadata": {},
   "source": [
    "### Balanceo"
   ]
  },
  {
   "cell_type": "code",
   "execution_count": 25,
   "id": "welcome-twelve",
   "metadata": {},
   "outputs": [
    {
     "data": {
      "text/plain": [
       "<AxesSubplot:ylabel='target'>"
      ]
     },
     "execution_count": 25,
     "metadata": {},
     "output_type": "execute_result"
    },
    {
     "data": {
      "image/png": "[encoded data removed]",
      "text/plain": [
       "<Figure size 288x288 with 1 Axes>"
      ]
     },
     "metadata": {},
     "output_type": "display_data"
    }
   ],
   "source": [
    "train.target.value_counts().plot.pie(autopct='%1.0f%%', figsize=(4,4))"
   ]
  },
  {
   "cell_type": "markdown",
   "id": "injured-familiar",
   "metadata": {},
   "source": [
    "Como se puede ver en el gráfico el dataset se encuentra altamente desbalanceado, ya que tiene una proporcion de 3 a 1 siendo el mayor de estos el valor 0 (La persona no esta buscando un cambio de trabajo).\n",
    "Esto repercutira al momento de separar el dataset en test y train, ya que al tener un modelo tan desbalanceado podria darse el caso en el cual ambos dataset resultantes obtengan una distribucion muy diferente al original y por ende entre ellos mismos.\n"
   ]
  },
  {
   "cell_type": "markdown",
   "id": "identified-clearance",
   "metadata": {},
   "source": [
    "### Relacion variables de entrada / salida"
   ]
  },
  {
   "cell_type": "code",
   "execution_count": 48,
   "id": "christian-romance",
   "metadata": {},
   "outputs": [
    {
     "ename": "SyntaxError",
     "evalue": "invalid syntax (<ipython-input-48-4b0d1985a43f>, line 1)",
     "output_type": "error",
     "traceback": [
      "\u001b[1;36m  File \u001b[1;32m\"<ipython-input-48-4b0d1985a43f>\"\u001b[1;36m, line \u001b[1;32m1\u001b[0m\n\u001b[1;33m    train.city.value_counts().where(z => z > 100)\u001b[0m\n\u001b[1;37m                                       ^\u001b[0m\n\u001b[1;31mSyntaxError\u001b[0m\u001b[1;31m:\u001b[0m invalid syntax\n"
     ]
    }
   ],
   "source": [
    "train.city.value_counts().where()"
   ]
  },
  {
   "cell_type": "markdown",
   "id": "mineral-structure",
   "metadata": {},
   "source": [
    "#### City"
   ]
  },
  {
   "cell_type": "code",
   "execution_count": 43,
   "id": "innocent-overview",
   "metadata": {},
   "outputs": [
    {
     "data": {
      "text/plain": [
       "<AxesSubplot:title={'center':'# de personas por ciudad'}>"
      ]
     },
     "execution_count": 43,
     "metadata": {},
     "output_type": "execute_result"
    },
    {
     "data": {
      "image/png": "[encoded data removed]",
      "text/plain": [
       "<Figure size 1152x432 with 3 Axes>"
      ]
     },
     "metadata": {
      "needs_background": "light"
     },
     "output_type": "display_data"
    }
   ],
   "source": [
    "f,ax=plt.subplots(1,3,figsize=(16,6))\n",
    "ax[0].set_title('# de personas por ciudad')\n",
    "train.city.value_counts().sort_index().plot.bar(ax=ax[0])"
   ]
  },
  {
   "cell_type": "markdown",
   "id": "sharp-advance",
   "metadata": {},
   "source": [
    "#### City_index"
   ]
  },
  {
   "cell_type": "code",
   "execution_count": null,
   "id": "secure-update",
   "metadata": {},
   "outputs": [],
   "source": [
    "Something"
   ]
  },
  {
   "cell_type": "markdown",
   "id": "forced-document",
   "metadata": {},
   "source": [
    "#### Company_type"
   ]
  },
  {
   "cell_type": "code",
   "execution_count": 52,
   "id": "complex-twist",
   "metadata": {},
   "outputs": [
    {
     "data": {
      "text/plain": [
       "<AxesSubplot:title={'center':'% Personas buscando trabajo por tipo de empresa'}>"
      ]
     },
     "execution_count": 52,
     "metadata": {},
     "output_type": "execute_result"
    },
    {
     "data": {
      "image/png": "[encoded data removed]",
      "text/plain": [
       "<Figure size 1152x432 with 3 Axes>"
      ]
     },
     "metadata": {
      "needs_background": "light"
     },
     "output_type": "display_data"
    }
   ],
   "source": [
    "f,ax=plt.subplots(1,3,figsize=(16,6))\n",
    "ax[0].set_title('# Persona por tipo de empresa')\n",
    "train.company_type.value_counts().sort_index().plot.bar(ax=ax[0])\n",
    "\n",
    "ax[1].set_title('# Personas buscando trabajo por tipo de empresa')\n",
    "train[train.target == True].company_type.value_counts().sort_index().plot.bar(ax=ax[1])\n",
    "\n",
    "ax[2].set_title('% Personas buscando trabajo por tipo de empresa')\n",
    "(train[train.target == True].company_type.value_counts().sort_index() / train.company_type.value_counts().sort_index()).plot.bar(ax=ax[2])"
   ]
  },
  {
   "cell_type": "markdown",
   "id": "emerging-submission",
   "metadata": {},
   "source": [
    "#### Relevant_experience"
   ]
  },
  {
   "cell_type": "code",
   "execution_count": 54,
   "id": "prescribed-diary",
   "metadata": {},
   "outputs": [
    {
     "data": {
      "text/plain": [
       "<AxesSubplot:title={'center':'% Personas buscando trabajo por experiencia'}>"
      ]
     },
     "execution_count": 54,
     "metadata": {},
     "output_type": "execute_result"
    },
    {
     "data": {
      "image/png": "[encoded data removed]",
      "text/plain": [
       "<Figure size 1152x432 with 3 Axes>"
      ]
     },
     "metadata": {
      "needs_background": "light"
     },
     "output_type": "display_data"
    }
   ],
   "source": [
    "f,ax=plt.subplots(1,3,figsize=(16,6))\n",
    "ax[0].set_title('# Persona por experiencia')\n",
    "train.relevent_experience.value_counts().sort_index().plot.bar(ax=ax[0])\n",
    "\n",
    "ax[1].set_title('# Personas buscando trabajo por experiencia')\n",
    "train[train.target == True].relevent_experience.value_counts().sort_index().plot.bar(ax=ax[1])\n",
    "\n",
    "ax[2].set_title('% Personas buscando trabajo por experiencia')\n",
    "(train[train.target == True].relevent_experience.value_counts().sort_index() / train.relevent_experience.value_counts().sort_index()).plot.bar(ax=ax[2])"
   ]
  },
  {
   "cell_type": "markdown",
   "id": "approved-carol",
   "metadata": {},
   "source": [
    "#### Experience"
   ]
  },
  {
   "cell_type": "code",
   "execution_count": 56,
   "id": "mounted-adams",
   "metadata": {},
   "outputs": [
    {
     "data": {
      "text/plain": [
       "<AxesSubplot:title={'center':'% Personas buscando trabajo por experiencia'}>"
      ]
     },
     "execution_count": 56,
     "metadata": {},
     "output_type": "execute_result"
    },
    {
     "data": {
      "image/png": "[encoded data removed]",
      "text/plain": [
       "<Figure size 1152x432 with 3 Axes>"
      ]
     },
     "metadata": {
      "needs_background": "light"
     },
     "output_type": "display_data"
    }
   ],
   "source": [
    "f,ax=plt.subplots(1,3,figsize=(16,6))\n",
    "ax[0].set_title('# Persona por experiencia')\n",
    "train.experience.value_counts().sort_index().plot.bar(ax=ax[0])\n",
    "\n",
    "ax[1].set_title('# Personas buscando trabajo por experiencia')\n",
    "train[train.target == True].experience.value_counts().sort_index().plot.bar(ax=ax[1])\n",
    "\n",
    "ax[2].set_title('% Personas buscando trabajo por experiencia')\n",
    "(train[train.target == True].experience.value_counts().sort_index() / train.experience.value_counts().sort_index()).plot.bar(ax=ax[2])"
   ]
  }
 ],
 "metadata": {
  "kernelspec": {
   "display_name": "Python 3",
   "language": "python",
   "name": "python3"
  },
  "language_info": {
   "codemirror_mode": {
    "name": "ipython",
    "version": 3
   },
   "file_extension": ".py",
   "mimetype": "text/x-python",
   "name": "python",
   "nbconvert_exporter": "python",
   "pygments_lexer": "ipython3",
   "version": "3.8.3"
  }
 },
 "nbformat": 4,
 "nbformat_minor": 5
}
